{
 "cells": [
  {
   "cell_type": "code",
   "outputs": [],
   "source": [
    "import torchio as tio\n",
    "import SimpleITK as sitk\n",
    "import os\n",
    "from tqdm import tqdm\n",
    "import glob"
   ],
   "metadata": {
    "collapsed": false,
    "ExecuteTime": {
     "end_time": "2024-03-06T12:38:29.018164Z",
     "start_time": "2024-03-06T12:38:26.542641Z"
    }
   },
   "id": "9b9a5ac51d14eb74",
   "execution_count": 1
  },
  {
   "cell_type": "markdown",
   "source": [
    "# 1- Convert DICOM to Nifti\n",
    "\n",
    "prerequisite: download dcm2niix for the desired OS from here: https://github.com/rordenlab/dcm2niix/releases"
   ],
   "metadata": {
    "collapsed": false
   },
   "id": "8e8fc34c6db2b20d"
  },
  {
   "cell_type": "code",
   "outputs": [],
   "source": [
    "def convert_dicom_to_nifti(dicom_dir, output_dir, dcm2niix_path=\"<path/to>/dcm2niix.exe\"):\n",
    "    \"\"\"\n",
    "    Convert DICOM files to Nifti format using dcm2niix.\n",
    "\n",
    "    Parameters:\n",
    "        dicom_dir (str): Path to the directory containing DICOM files.\n",
    "        output_dir (str): Path to the directory where Nifti files will be saved.\n",
    "        dcm2niix_path (str, optional): Path to the dcm2niix executable. Default is \"<path/to>/dcm2niix.exe\".\n",
    "\n",
    "    Returns:\n",
    "        None\n",
    "    \"\"\"\n",
    "    # Get all the folders in the specified DICOM directory\n",
    "    dicom_folders = os.listdir(dicom_dir)\n",
    "    \n",
    "    # Define the command for dcm2niix conversion\n",
    "    conversion_command = f\"{dcm2niix_path} -z y -f %p_%t_%s -o {output_dir}\"\n",
    "    \n",
    "    # Iterate through each folder and convert DICOM files to Nifti\n",
    "    for folder in dicom_folders:\n",
    "        full_folder_path = os.path.join(dicom_dir, folder)\n",
    "        os.system(f\"{conversion_command} {full_folder_path}\")\n"
   ],
   "metadata": {
    "collapsed": false,
    "ExecuteTime": {
     "end_time": "2024-03-06T12:38:29.033521Z",
     "start_time": "2024-03-06T12:38:29.020002Z"
    }
   },
   "id": "66ad5b2ea989fb1a",
   "execution_count": 2
  },
  {
   "cell_type": "markdown",
   "source": [
    "# 2- Reorient an MRI scan to LPS orientation using SimpleITK. "
   ],
   "metadata": {
    "collapsed": false
   },
   "id": "9e49220186e3b4bd"
  },
  {
   "cell_type": "code",
   "outputs": [],
   "source": [
    "def reorient_to_LPS(input_image_path, output_image_path):\n",
    "    \"\"\"\n",
    "    Reorient an MRI scan to LPS orientation using SimpleITK.\n",
    "\n",
    "    Parameters:\n",
    "    input_image_path (str): Path to the input MRI image.\n",
    "    output_image_path (str): Path where the reoriented image will be saved.\n",
    "    \"\"\"\n",
    "\n",
    "    # Read the input image\n",
    "    input_image = sitk.ReadImage(input_image_path)\n",
    "\n",
    "    # Reorient the image to LPS orientation\n",
    "    lps_oriented_image = sitk.DICOMOrient(input_image, 'LPS')\n",
    "\n",
    "    # Save the reoriented image\n",
    "    if os.name == \"nt\":\n",
    "        out_file_path = os.path.join(output_image_path, input_image_path.split(\"\\\\\")[-1])\n",
    "    else:\n",
    "        out_file_path = os.path.join(output_image_path, input_image_path.split(\"/\")[-1])\n",
    "    sitk.WriteImage(lps_oriented_image, out_file_path)\n",
    "    \n",
    "    \n",
    "    # verify the orientation\n",
    "    img = tio.ScalarImage(out_file_path)\n",
    "    print(img.orientation)"
   ],
   "metadata": {
    "collapsed": false,
    "ExecuteTime": {
     "end_time": "2024-03-06T12:38:30.204033Z",
     "start_time": "2024-03-06T12:38:30.189144Z"
    }
   },
   "id": "ccfd992cd9706efd",
   "execution_count": 3
  },
  {
   "cell_type": "markdown",
   "source": [
    "# 3- Register an MRI image to a template using SimpleITK\n",
    "\n",
    "Rigidly register the scan and resample it to an isotropic resolution (1mm^3) based on common anatomical atlas: SRI.\n",
    "\n",
    "Link: https://www.nitrc.org/frs/?group_id=214 \n",
    "file: sri24_spm8.zip"
   ],
   "metadata": {
    "collapsed": false
   },
   "id": "add4239ecf40526b"
  },
  {
   "cell_type": "code",
   "outputs": [],
   "source": [
    "def register_to_mni(input_image_path, template_path, output_path):\n",
    "    \"\"\"\n",
    "    Register an MRI image to the MNI template using SimpleITK.\n",
    "\n",
    "    Parameters:\n",
    "    input_image_path (str): Path to the subject's MRI image to be registered.\n",
    "    template_path (str): Path to the MNI template image.\n",
    "\n",
    "    Returns:\n",
    "    SimpleITK.Image: The registered image.\n",
    "    \"\"\"\n",
    "\n",
    "    # Read the subject image and the MNI template\n",
    "    subject_image = sitk.ReadImage(input_image_path, sitk.sitkFloat32)\n",
    "    mni_template = sitk.ReadImage(template_path, sitk.sitkFloat32)\n",
    "\n",
    "    # Initialize the registration method\n",
    "    registration_method = sitk.ImageRegistrationMethod()\n",
    "\n",
    "    # Similarity metric settings\n",
    "    registration_method.SetMetricAsMattesMutualInformation(numberOfHistogramBins=50)\n",
    "    registration_method.SetMetricSamplingStrategy(registration_method.RANDOM)\n",
    "    registration_method.SetMetricSamplingPercentage(0.01)\n",
    "\n",
    "    # Interpolator settings\n",
    "    registration_method.SetInterpolator(sitk.sitkLinear)\n",
    "\n",
    "    # Optimizer settings\n",
    "    registration_method.SetOptimizerAsGradientDescent(learningRate=1.0, numberOfIterations=100, convergenceMinimumValue=1e-6, convergenceWindowSize=10)\n",
    "    registration_method.SetOptimizerScalesFromPhysicalShift()\n",
    "\n",
    "    # Setup for the multi-resolution framework\n",
    "    registration_method.SetShrinkFactorsPerLevel(shrinkFactors=[4, 2, 1])\n",
    "    registration_method.SetSmoothingSigmasPerLevel(smoothingSigmas=[2, 1, 0])\n",
    "    registration_method.SmoothingSigmasAreSpecifiedInPhysicalUnitsOn()\n",
    "\n",
    "    # Don't optimize in-place, we're using a new instance of the image.\n",
    "    registration_method.SetInitialTransform(sitk.CenteredTransformInitializer(mni_template, subject_image, sitk.Euler3DTransform(), sitk.CenteredTransformInitializerFilter.GEOMETRY))\n",
    "\n",
    "    # Execute the registration\n",
    "    final_transform = registration_method.Execute(mni_template, subject_image)\n",
    "\n",
    "    # Resample the image to the space of the template\n",
    "    registered_image = sitk.Resample(subject_image, mni_template, final_transform, sitk.sitkLinear, 0.0, subject_image.GetPixelID())\n",
    "    \n",
    "    # Save the registered image\n",
    "    sitk.WriteImage(registered_image, output_path)\n"
   ],
   "metadata": {
    "collapsed": false,
    "ExecuteTime": {
     "end_time": "2024-03-06T12:38:30.942563Z",
     "start_time": "2024-03-06T12:38:30.920607Z"
    }
   },
   "id": "50d71e2875f84063",
   "execution_count": 4
  },
  {
   "cell_type": "code",
   "outputs": [],
   "source": [
    "\"\"\"\n",
    "Check the orientation and spacing of the registered images\n",
    "\"\"\"\n",
    "\n",
    "path_file_list = glob.glob(r\"<path where files are located>\\*.nii.gz\")\n",
    "\n",
    "# check the shape of the images\n",
    "for path in path_file_list:\n",
    "    img = tio.ScalarImage(path)\n",
    "    print(img.orientation)\n",
    "    print(img.spacing)"
   ],
   "metadata": {
    "collapsed": false,
    "ExecuteTime": {
     "end_time": "2024-03-06T12:38:31.347761Z",
     "start_time": "2024-03-06T12:38:31.330799Z"
    }
   },
   "id": "ba84ecb2853cc71",
   "execution_count": 5
  },
 {
   "cell_type": "markdown",
   "source": [
    "# 5- Bias field Correction"
   ],
   "metadata": {
    "collapsed": false
   },
   "id": "944f9183977e7909"
  },
  {
   "cell_type": "code",
   "outputs": [],
   "source": [
    "def apply_bias_field_correction(parent_dir, path2save):\n",
    "    \"\"\"\n",
    "    Apply bias field correction to images in a directory using N4 bias field correction.\n",
    "\n",
    "    Parameters:\n",
    "        parent_dir (str): Path pattern to the directory containing the input images.\n",
    "        path2save (str): Path to the directory where corrected images will be saved.\n",
    "\n",
    "    Returns:\n",
    "        None\n",
    "    \"\"\"\n",
    "    # Find all image files in the parent directory\n",
    "    parent_file = glob.glob(os.path.join(parent_dir, \"*.nii.gz\"))\n",
    "    \n",
    "    # Apply bias field correction to each image\n",
    "    for path in tqdm(parent_file):\n",
    "        # Read the image\n",
    "        input_image = sitk.ReadImage(path, sitk.sitkFloat32)\n",
    "        \n",
    "        # Apply N4 bias field correction\n",
    "        corrector = sitk.N4BiasFieldCorrectionImageFilter()\n",
    "        output_image = corrector.Execute(input_image)\n",
    "\n",
    "        # Define the output file path\n",
    "        output_file = os.path.join(path2save, os.path.basename(path))\n",
    "        \n",
    "        # Save the corrected image\n",
    "        sitk.WriteImage(output_image, output_file)"
   ],
   "metadata": {
    "collapsed": false,
    "ExecuteTime": {
     "end_time": "2024-03-06T12:38:33.082037Z",
     "start_time": "2024-03-06T12:38:33.076054Z"
    }
   },
   "id": "325970c094ced57f",
   "execution_count": 7
  },
  {
   "cell_type": "markdown",
   "source": [
    "# 4- Perform skull stripping using HD-BET from DKFZ\n",
    "The original repository and instructions are found here: https://github.com/MIC-DKFZ/HD-BET\n",
    "! Please follow the Installation Instructions in the link"
   ],
   "metadata": {
    "collapsed": false
   },
   "id": "e09228297af90ba1"
  },
 {
   "cell_type": "markdown",
   "source": [
    "# 5- Bias field Correction"
   ],
   "metadata": {
    "collapsed": false
   },
   "id": "944f9183977e7909"
  },
  {
   "cell_type": "code",
   "outputs": [],
   "source": [
    "def apply_bias_field_correction(parent_dir, path2save):\n",
    "    \"\"\"\n",
    "    Apply bias field correction to images in a directory using N4 bias field correction.\n",
    "\n",
    "    Parameters:\n",
    "        parent_dir (str): Path pattern to the directory containing the input images.\n",
    "        path2save (str): Path to the directory where corrected images will be saved.\n",
    "\n",
    "    Returns:\n",
    "        None\n",
    "    \"\"\"\n",
    "    # Find all image files in the parent directory\n",
    "    parent_file = glob.glob(os.path.join(parent_dir, \"*.nii.gz\"))\n",
    "    \n",
    "    # Apply bias field correction to each image\n",
    "    for path in tqdm(parent_file):\n",
    "        # Read the image\n",
    "        input_image = sitk.ReadImage(path, sitk.sitkFloat32)\n",
    "        \n",
    "        # Apply N4 bias field correction\n",
    "        corrector = sitk.N4BiasFieldCorrectionImageFilter()\n",
    "        output_image = corrector.Execute(input_image)\n",
    "\n",
    "        # Define the output file path\n",
    "        output_file = os.path.join(path2save, os.path.basename(path))\n",
    "        \n",
    "        # Save the corrected image\n",
    "        sitk.WriteImage(output_image, output_file)"
   ],
   "metadata": {
    "collapsed": false,
    "ExecuteTime": {
     "end_time": "2024-03-06T12:38:33.082037Z",
     "start_time": "2024-03-06T12:38:33.076054Z"
    }
   },
   "id": "325970c094ced57f",
   "execution_count": 7
  },
  {
   "cell_type": "code",
   "outputs": [],
   "source": [
    "def skull_stripping(parent_dir, out_dir, hd_bet_path=\"HD-BET/HD_BET/hd-bet\"):\n",
    "    \"\"\"\n",
    "    Skull stripping of .nii.gz files using HD-BET tool.\n",
    "\n",
    "    Parameters:\n",
    "        parent_dir (str): Path to the directory containing the .nii.gz files.\n",
    "        out_dir (str): Path to the directory where processed files will be saved.\n",
    "        hd_bet_path (str): Path to the HD-BET executable. Default is \"HD-BET/HD_BET/hd-bet\".\n",
    "\n",
    "    Returns:\n",
    "        None\n",
    "    \"\"\"\n",
    "    path_file_list = glob.glob(os.path.join(parent_dir, \"*.nii.gz\"))\n",
    "\n",
    "    for path in tqdm(path_file_list):\n",
    "        if os.name == 'nt':  # Check if the operating system is Windows\n",
    "            out_path = os.path.join(out_file, path.split(\"\\\\\")[-1])\n",
    "        else:\n",
    "            out_path = os.path.join(out_file, path.split(\"/\")[-1])\n",
    "        os.system(f'python {hd_bet_path} -i {path} -o {out_path}')"
   ],
   "metadata": {
    "collapsed": false,
    "ExecuteTime": {
     "end_time": "2024-03-06T12:38:32.160743Z",
     "start_time": "2024-03-06T12:38:32.143316Z"
    }
   },
   "id": "1b0e8cd65a72aa87",
   "execution_count": 6
  }
 ],
 "metadata": {
  "kernelspec": {
   "display_name": "Python 3",
   "language": "python",
   "name": "python3"
  },
  "language_info": {
   "codemirror_mode": {
    "name": "ipython",
    "version": 2
   },
   "file_extension": ".py",
   "mimetype": "text/x-python",
   "name": "python",
   "nbconvert_exporter": "python",
   "pygments_lexer": "ipython2",
   "version": "2.7.6"
  }
 },
 "nbformat": 4,
 "nbformat_minor": 5
}
